{
 "cells": [
  {
   "cell_type": "markdown",
   "metadata": {},
   "source": [
    "# Collaboration and Competition\n",
    "\n",
    "---\n",
    "\n",
    "You are welcome to use this coding environment to train your agent for the project.  Follow the instructions below to get started!\n",
    "\n",
    "### 1. Start the Environment\n",
    "\n",
    "Run the next code cell to install a few packages.  This line will take a few minutes to run!"
   ]
  },
  {
   "cell_type": "code",
   "execution_count": 9,
   "metadata": {},
   "outputs": [
    {
     "name": "stdout",
     "output_type": "stream",
     "text": [
      "\u001b[31mtensorflow 1.7.1 has requirement numpy>=1.13.3, but you'll have numpy 1.12.1 which is incompatible.\u001b[0m\r\n",
      "\u001b[31mipython 6.5.0 has requirement prompt-toolkit<2.0.0,>=1.0.15, but you'll have prompt-toolkit 2.0.10 which is incompatible.\u001b[0m\r\n"
     ]
    }
   ],
   "source": [
    "!pip -q install ./python"
   ]
  },
  {
   "cell_type": "markdown",
   "metadata": {},
   "source": [
    "**Unzip the environment (headless)**"
   ]
  },
  {
   "cell_type": "code",
   "execution_count": 3,
   "metadata": {},
   "outputs": [
    {
     "name": "stdout",
     "output_type": "stream",
     "text": [
      "Archive:  Tennis_Linux_NoVis.zip\n",
      "   creating: Tennis_Linux_NoVis/\n",
      "  inflating: Tennis_Linux_NoVis/Tennis.x86_64  \n",
      "  inflating: Tennis_Linux_NoVis/Tennis.x86  \n",
      "   creating: Tennis_Linux_NoVis/Tennis_Data/\n",
      "   creating: Tennis_Linux_NoVis/Tennis_Data/Managed/\n",
      "  inflating: Tennis_Linux_NoVis/Tennis_Data/Managed/UnityEngine.AudioModule.dll.mdb  \n",
      "  inflating: Tennis_Linux_NoVis/Tennis_Data/Managed/UnityEngine.InputModule.dll.mdb  \n",
      "  inflating: Tennis_Linux_NoVis/Tennis_Data/Managed/UnityEngine.TerrainPhysicsModule.dll  \n",
      "  inflating: Tennis_Linux_NoVis/Tennis_Data/Managed/Mono.Posix.dll  \n",
      "  inflating: Tennis_Linux_NoVis/Tennis_Data/Managed/UnityEngine.UnityWebRequestAudioModule.dll.mdb  \n",
      "  inflating: Tennis_Linux_NoVis/Tennis_Data/Managed/UnityEngine.SpriteMaskModule.dll  \n",
      "  inflating: Tennis_Linux_NoVis/Tennis_Data/Managed/UnityEngine.UnityConnectModule.dll.mdb  \n",
      "  inflating: Tennis_Linux_NoVis/Tennis_Data/Managed/UnityEngine.CrashReportingModule.dll  \n",
      "  inflating: Tennis_Linux_NoVis/Tennis_Data/Managed/UnityEngine.Physics2DModule.dll.mdb  \n",
      "  inflating: Tennis_Linux_NoVis/Tennis_Data/Managed/UnityEngine.UnityAnalyticsModule.dll  \n",
      "  inflating: Tennis_Linux_NoVis/Tennis_Data/Managed/UnityEngine.TextRenderingModule.dll.mdb  \n",
      "  inflating: Tennis_Linux_NoVis/Tennis_Data/Managed/UnityEngine.UnityWebRequestWWWModule.dll  \n",
      "  inflating: Tennis_Linux_NoVis/Tennis_Data/Managed/UnityEngine.ARModule.dll  \n",
      "  inflating: Tennis_Linux_NoVis/Tennis_Data/Managed/Google.Protobuf.dll  \n",
      "  inflating: Tennis_Linux_NoVis/Tennis_Data/Managed/UnityEngine.AccessibilityModule.dll  \n",
      "  inflating: Tennis_Linux_NoVis/Tennis_Data/Managed/UnityEngine.WebModule.dll.mdb  \n",
      "  inflating: Tennis_Linux_NoVis/Tennis_Data/Managed/System.Configuration.dll  \n",
      "  inflating: Tennis_Linux_NoVis/Tennis_Data/Managed/UnityEngine.SpriteShapeModule.dll  \n",
      "  inflating: Tennis_Linux_NoVis/Tennis_Data/Managed/UnityEngine.TextRenderingModule.dll  \n",
      "  inflating: Tennis_Linux_NoVis/Tennis_Data/Managed/UnityEngine.GameCenterModule.dll.mdb  \n",
      "  inflating: Tennis_Linux_NoVis/Tennis_Data/Managed/Assembly-CSharp.dll  \n",
      "  inflating: Tennis_Linux_NoVis/Tennis_Data/Managed/UnityEngine.UnityWebRequestTextureModule.dll  \n",
      "  inflating: Tennis_Linux_NoVis/Tennis_Data/Managed/UnityEngine.StandardEvents.dll  \n",
      "  inflating: Tennis_Linux_NoVis/Tennis_Data/Managed/UnityEngine.UIModule.dll.mdb  \n",
      "  inflating: Tennis_Linux_NoVis/Tennis_Data/Managed/UnityEngine.AssetBundleModule.dll  \n",
      "  inflating: Tennis_Linux_NoVis/Tennis_Data/Managed/UnityEngine.ImageConversionModule.dll.mdb  \n",
      "  inflating: Tennis_Linux_NoVis/Tennis_Data/Managed/UnityEngine.JSONSerializeModule.dll.mdb  \n",
      "  inflating: Tennis_Linux_NoVis/Tennis_Data/Managed/UnityEngine.PhysicsModule.dll.mdb  \n",
      "  inflating: Tennis_Linux_NoVis/Tennis_Data/Managed/UnityEngine.AnimationModule.dll  \n",
      "  inflating: Tennis_Linux_NoVis/Tennis_Data/Managed/UnityEngine.AudioModule.dll  \n",
      "  inflating: Tennis_Linux_NoVis/Tennis_Data/Managed/UnityEngine.CrashReportingModule.dll.mdb  \n",
      "  inflating: Tennis_Linux_NoVis/Tennis_Data/Managed/UnityEngine.SharedInternalsModule.dll.mdb  \n",
      "  inflating: Tennis_Linux_NoVis/Tennis_Data/Managed/UnityEngine.TilemapModule.dll.mdb  \n",
      "  inflating: Tennis_Linux_NoVis/Tennis_Data/Managed/UnityEngine.ClusterInputModule.dll  \n",
      "  inflating: Tennis_Linux_NoVis/Tennis_Data/Managed/UnityEngine.InputModule.dll  \n",
      "  inflating: Tennis_Linux_NoVis/Tennis_Data/Managed/UnityEngine.VRModule.dll.mdb  \n",
      "  inflating: Tennis_Linux_NoVis/Tennis_Data/Managed/UnityEngine.TerrainModule.dll.mdb  \n",
      "  inflating: Tennis_Linux_NoVis/Tennis_Data/Managed/UnityEngine.VideoModule.dll.mdb  \n",
      "  inflating: Tennis_Linux_NoVis/Tennis_Data/Managed/UnityEngine.DirectorModule.dll  \n",
      "  inflating: Tennis_Linux_NoVis/Tennis_Data/Managed/UnityEngine.SpriteMaskModule.dll.mdb  \n",
      "  inflating: Tennis_Linux_NoVis/Tennis_Data/Managed/mscorlib.dll  \n",
      "  inflating: Tennis_Linux_NoVis/Tennis_Data/Managed/UnityEngine.DirectorModule.dll.mdb  \n",
      "  inflating: Tennis_Linux_NoVis/Tennis_Data/Managed/UnityEngine.VehiclesModule.dll.mdb  \n",
      "  inflating: Tennis_Linux_NoVis/Tennis_Data/Managed/UnityEngine.GameCenterModule.dll  \n",
      "  inflating: Tennis_Linux_NoVis/Tennis_Data/Managed/UnityEngine.ParticleSystemModule.dll.mdb  \n",
      "  inflating: Tennis_Linux_NoVis/Tennis_Data/Managed/UnityEngine.ClothModule.dll.mdb  \n",
      "  inflating: Tennis_Linux_NoVis/Tennis_Data/Managed/UnityEngine.UnityWebRequestModule.dll.mdb  \n",
      "  inflating: Tennis_Linux_NoVis/Tennis_Data/Managed/UnityEngine.Physics2DModule.dll  \n",
      "  inflating: Tennis_Linux_NoVis/Tennis_Data/Managed/UnityEngine.UnityConnectModule.dll  \n",
      "  inflating: Tennis_Linux_NoVis/Tennis_Data/Managed/UnityEngine.dll  \n",
      "  inflating: Tennis_Linux_NoVis/Tennis_Data/Managed/UnityEngine.UnityWebRequestTextureModule.dll.mdb  \n",
      "  inflating: Tennis_Linux_NoVis/Tennis_Data/Managed/UnityEngine.UIElementsModule.dll  \n",
      "  inflating: Tennis_Linux_NoVis/Tennis_Data/Managed/Grpc.Core.dll  \n",
      "  inflating: Tennis_Linux_NoVis/Tennis_Data/Managed/UnityEngine.UIModule.dll  \n",
      "  inflating: Tennis_Linux_NoVis/Tennis_Data/Managed/UnityEngine.UI.dll  \n",
      "  inflating: Tennis_Linux_NoVis/Tennis_Data/Managed/UnityEngine.ParticlesLegacyModule.dll  \n",
      "  inflating: Tennis_Linux_NoVis/Tennis_Data/Managed/UnityEngine.StyleSheetsModule.dll  \n",
      "  inflating: Tennis_Linux_NoVis/Tennis_Data/Managed/System.Interactive.Async.dll  \n",
      "  inflating: Tennis_Linux_NoVis/Tennis_Data/Managed/UnityEngine.WebModule.dll  \n",
      "  inflating: Tennis_Linux_NoVis/Tennis_Data/Managed/UnityEngine.Timeline.dll  \n",
      "  inflating: Tennis_Linux_NoVis/Tennis_Data/Managed/UnityEngine.IMGUIModule.dll.mdb  \n",
      "  inflating: Tennis_Linux_NoVis/Tennis_Data/Managed/UnityEngine.GridModule.dll  \n",
      "  inflating: Tennis_Linux_NoVis/Tennis_Data/Managed/UnityEngine.TerrainModule.dll  \n",
      "  inflating: Tennis_Linux_NoVis/Tennis_Data/Managed/UnityEngine.GridModule.dll.mdb  \n",
      "  inflating: Tennis_Linux_NoVis/Tennis_Data/Managed/UnityEngine.AssetBundleModule.dll.mdb  \n",
      "  inflating: Tennis_Linux_NoVis/Tennis_Data/Managed/UnityEngine.VRModule.dll  \n",
      "  inflating: Tennis_Linux_NoVis/Tennis_Data/Managed/UnityEngine.JSONSerializeModule.dll  \n",
      "  inflating: Tennis_Linux_NoVis/Tennis_Data/Managed/UnityEngine.AIModule.dll.mdb  \n",
      "  inflating: Tennis_Linux_NoVis/Tennis_Data/Managed/UnityEngine.SpatialTracking.dll  \n",
      "  inflating: Tennis_Linux_NoVis/Tennis_Data/Managed/Mono.Security.dll  \n",
      "  inflating: Tennis_Linux_NoVis/Tennis_Data/Managed/UnityEngine.CoreModule.dll.mdb  \n",
      "  inflating: Tennis_Linux_NoVis/Tennis_Data/Managed/System.dll  \n",
      "  inflating: Tennis_Linux_NoVis/Tennis_Data/Managed/UnityEngine.SharedInternalsModule.dll  \n",
      "  inflating: Tennis_Linux_NoVis/Tennis_Data/Managed/UnityEngine.UIElementsModule.dll.mdb  \n",
      "  inflating: Tennis_Linux_NoVis/Tennis_Data/Managed/UnityEngine.ImageConversionModule.dll  \n",
      "  inflating: Tennis_Linux_NoVis/Tennis_Data/Managed/UnityEngine.SpriteShapeModule.dll.mdb  \n",
      "  inflating: Tennis_Linux_NoVis/Tennis_Data/Managed/UnityEngine.TilemapModule.dll  \n",
      "  inflating: Tennis_Linux_NoVis/Tennis_Data/Managed/UnityEngine.ParticleSystemModule.dll  \n",
      "  inflating: Tennis_Linux_NoVis/Tennis_Data/Managed/UnityEngine.AccessibilityModule.dll.mdb  \n",
      "  inflating: Tennis_Linux_NoVis/Tennis_Data/Managed/UnityEngine.VehiclesModule.dll  \n",
      "  inflating: Tennis_Linux_NoVis/Tennis_Data/Managed/UnityEngine.PhysicsModule.dll  \n",
      "  inflating: Tennis_Linux_NoVis/Tennis_Data/Managed/UnityEngine.CoreModule.dll  \n",
      "  inflating: Tennis_Linux_NoVis/Tennis_Data/Managed/UnityEngine.PerformanceReportingModule.dll  \n",
      "  inflating: Tennis_Linux_NoVis/Tennis_Data/Managed/System.Xml.dll  \n",
      "  inflating: Tennis_Linux_NoVis/Tennis_Data/Managed/UnityEngine.ClusterRendererModule.dll.mdb  \n",
      "  inflating: Tennis_Linux_NoVis/Tennis_Data/Managed/UnityEngine.WindModule.dll  \n",
      "  inflating: Tennis_Linux_NoVis/Tennis_Data/Managed/UnityEngine.PerformanceReportingModule.dll.mdb  \n",
      "  inflating: Tennis_Linux_NoVis/Tennis_Data/Managed/UnityEngine.ARModule.dll.mdb  \n",
      "  inflating: Tennis_Linux_NoVis/Tennis_Data/Managed/UnityEngine.UnityAnalyticsModule.dll.mdb  \n",
      "  inflating: Tennis_Linux_NoVis/Tennis_Data/Managed/UnityEngine.ScreenCaptureModule.dll  \n",
      "  inflating: Tennis_Linux_NoVis/Tennis_Data/Managed/UnityEngine.dll.mdb  \n",
      "  inflating: Tennis_Linux_NoVis/Tennis_Data/Managed/UnityEngine.ClusterRendererModule.dll  \n",
      "  inflating: Tennis_Linux_NoVis/Tennis_Data/Managed/UnityEngine.ClusterInputModule.dll.mdb  \n",
      "  inflating: Tennis_Linux_NoVis/Tennis_Data/Managed/UnityEngine.UnityWebRequestModule.dll  \n",
      "  inflating: Tennis_Linux_NoVis/Tennis_Data/Managed/UnityEngine.Networking.dll  \n",
      "  inflating: Tennis_Linux_NoVis/Tennis_Data/Managed/UnityEngine.StyleSheetsModule.dll.mdb  \n",
      "  inflating: Tennis_Linux_NoVis/Tennis_Data/Managed/UnityEngine.UnityWebRequestAudioModule.dll  \n",
      "  inflating: Tennis_Linux_NoVis/Tennis_Data/Managed/UnityEngine.UNETModule.dll.mdb  \n",
      "  inflating: Tennis_Linux_NoVis/Tennis_Data/Managed/UnityEngine.UNETModule.dll  \n",
      "  inflating: Tennis_Linux_NoVis/Tennis_Data/Managed/UnityEngine.ClothModule.dll  \n",
      "  inflating: Tennis_Linux_NoVis/Tennis_Data/Managed/UnityEngine.TerrainPhysicsModule.dll.mdb  \n",
      "  inflating: Tennis_Linux_NoVis/Tennis_Data/Managed/UnityEngine.AnimationModule.dll.mdb  \n",
      "  inflating: Tennis_Linux_NoVis/Tennis_Data/Managed/System.Security.dll  \n",
      "  inflating: Tennis_Linux_NoVis/Tennis_Data/Managed/UnityEngine.AIModule.dll  \n",
      "  inflating: Tennis_Linux_NoVis/Tennis_Data/Managed/UnityEngine.IMGUIModule.dll  \n",
      "  inflating: Tennis_Linux_NoVis/Tennis_Data/Managed/System.Core.dll  \n",
      "  inflating: Tennis_Linux_NoVis/Tennis_Data/Managed/UnityEngine.WindModule.dll.mdb  \n",
      "  inflating: Tennis_Linux_NoVis/Tennis_Data/Managed/UnityEngine.VideoModule.dll  \n",
      "  inflating: Tennis_Linux_NoVis/Tennis_Data/Managed/UnityEngine.ParticlesLegacyModule.dll.mdb  \n",
      "  inflating: Tennis_Linux_NoVis/Tennis_Data/Managed/UnityEngine.ScreenCaptureModule.dll.mdb  \n",
      "  inflating: Tennis_Linux_NoVis/Tennis_Data/Managed/UnityEngine.UnityWebRequestWWWModule.dll.mdb  \n",
      "  inflating: Tennis_Linux_NoVis/Tennis_Data/globalgamemanagers  \n",
      "   creating: Tennis_Linux_NoVis/Tennis_Data/Plugins/\n",
      "   creating: Tennis_Linux_NoVis/Tennis_Data/Plugins/x86/\n",
      "  inflating: Tennis_Linux_NoVis/Tennis_Data/Plugins/x86/libgrpc_csharp_ext.x86.so  \n",
      "   creating: Tennis_Linux_NoVis/Tennis_Data/Plugins/x86_64/\n",
      "  inflating: Tennis_Linux_NoVis/Tennis_Data/Plugins/x86_64/libgrpc_csharp_ext.x64.so  \n",
      "  inflating: Tennis_Linux_NoVis/Tennis_Data/boot.config  \n",
      "  inflating: Tennis_Linux_NoVis/Tennis_Data/resources.assets  \n",
      "   creating: Tennis_Linux_NoVis/Tennis_Data/Resources/\n",
      "  inflating: Tennis_Linux_NoVis/Tennis_Data/Resources/unity default resources  \n",
      "  inflating: Tennis_Linux_NoVis/Tennis_Data/Resources/unity_builtin_extra  \n",
      "  inflating: Tennis_Linux_NoVis/Tennis_Data/Resources/UnityPlayer.png  \n",
      "   creating: Tennis_Linux_NoVis/Tennis_Data/MonoBleedingEdge/\n",
      "   creating: Tennis_Linux_NoVis/Tennis_Data/MonoBleedingEdge/etc/\n",
      "   creating: Tennis_Linux_NoVis/Tennis_Data/MonoBleedingEdge/etc/mono/\n",
      "  inflating: Tennis_Linux_NoVis/Tennis_Data/MonoBleedingEdge/etc/mono/config  \n",
      "   creating: Tennis_Linux_NoVis/Tennis_Data/MonoBleedingEdge/etc/mono/2.0/\n",
      "  inflating: Tennis_Linux_NoVis/Tennis_Data/MonoBleedingEdge/etc/mono/2.0/web.config  \n",
      "  inflating: Tennis_Linux_NoVis/Tennis_Data/MonoBleedingEdge/etc/mono/2.0/machine.config  \n",
      "   creating: Tennis_Linux_NoVis/Tennis_Data/MonoBleedingEdge/etc/mono/2.0/Browsers/\n",
      "  inflating: Tennis_Linux_NoVis/Tennis_Data/MonoBleedingEdge/etc/mono/2.0/Browsers/Compat.browser  \n",
      "  inflating: Tennis_Linux_NoVis/Tennis_Data/MonoBleedingEdge/etc/mono/2.0/DefaultWsdlHelpGenerator.aspx  \n",
      "  inflating: Tennis_Linux_NoVis/Tennis_Data/MonoBleedingEdge/etc/mono/2.0/settings.map  \n",
      "   creating: Tennis_Linux_NoVis/Tennis_Data/MonoBleedingEdge/etc/mono/4.5/\n",
      "  inflating: Tennis_Linux_NoVis/Tennis_Data/MonoBleedingEdge/etc/mono/4.5/web.config  \n",
      "  inflating: Tennis_Linux_NoVis/Tennis_Data/MonoBleedingEdge/etc/mono/4.5/machine.config  \n",
      "   creating: Tennis_Linux_NoVis/Tennis_Data/MonoBleedingEdge/etc/mono/4.5/Browsers/\n",
      "  inflating: Tennis_Linux_NoVis/Tennis_Data/MonoBleedingEdge/etc/mono/4.5/Browsers/Compat.browser  \n",
      "  inflating: Tennis_Linux_NoVis/Tennis_Data/MonoBleedingEdge/etc/mono/4.5/DefaultWsdlHelpGenerator.aspx  \n",
      "  inflating: Tennis_Linux_NoVis/Tennis_Data/MonoBleedingEdge/etc/mono/4.5/settings.map  \n",
      "  inflating: Tennis_Linux_NoVis/Tennis_Data/MonoBleedingEdge/etc/mono/browscap.ini  \n",
      "   creating: Tennis_Linux_NoVis/Tennis_Data/MonoBleedingEdge/etc/mono/mconfig/\n",
      "  inflating: Tennis_Linux_NoVis/Tennis_Data/MonoBleedingEdge/etc/mono/mconfig/config.xml  \n",
      "   creating: Tennis_Linux_NoVis/Tennis_Data/MonoBleedingEdge/etc/mono/4.0/\n",
      "  inflating: Tennis_Linux_NoVis/Tennis_Data/MonoBleedingEdge/etc/mono/4.0/web.config  \n",
      "  inflating: Tennis_Linux_NoVis/Tennis_Data/MonoBleedingEdge/etc/mono/4.0/machine.config  \n",
      "   creating: Tennis_Linux_NoVis/Tennis_Data/MonoBleedingEdge/etc/mono/4.0/Browsers/\n",
      "  inflating: Tennis_Linux_NoVis/Tennis_Data/MonoBleedingEdge/etc/mono/4.0/Browsers/Compat.browser  \n",
      "  inflating: Tennis_Linux_NoVis/Tennis_Data/MonoBleedingEdge/etc/mono/4.0/DefaultWsdlHelpGenerator.aspx  \n",
      "  inflating: Tennis_Linux_NoVis/Tennis_Data/MonoBleedingEdge/etc/mono/4.0/settings.map  \n",
      "   creating: Tennis_Linux_NoVis/Tennis_Data/MonoBleedingEdge/x86/\n",
      "  inflating: Tennis_Linux_NoVis/Tennis_Data/MonoBleedingEdge/x86/libmonobdwgc-2.0.so  \n",
      "  inflating: Tennis_Linux_NoVis/Tennis_Data/MonoBleedingEdge/x86/libMonoPosixHelper.so  \n",
      "   creating: Tennis_Linux_NoVis/Tennis_Data/MonoBleedingEdge/x86_64/\n",
      "  inflating: Tennis_Linux_NoVis/Tennis_Data/MonoBleedingEdge/x86_64/libmonobdwgc-2.0.so  \n",
      "  inflating: Tennis_Linux_NoVis/Tennis_Data/MonoBleedingEdge/x86_64/libMonoPosixHelper.so  \n",
      "  inflating: Tennis_Linux_NoVis/Tennis_Data/sharedassets0.assets  \n",
      "  inflating: Tennis_Linux_NoVis/Tennis_Data/level0  \n",
      "  inflating: Tennis_Linux_NoVis/Tennis_Data/globalgamemanagers.assets  \n"
     ]
    }
   ],
   "source": [
    "!unzip Tennis_Linux_NoVis.zip"
   ]
  },
  {
   "cell_type": "markdown",
   "metadata": {},
   "source": [
    "The environment is already saved in the Workspace and can be accessed at the file path provided below. "
   ]
  },
  {
   "cell_type": "code",
   "execution_count": 10,
   "metadata": {},
   "outputs": [
    {
     "name": "stderr",
     "output_type": "stream",
     "text": [
      "INFO:unityagents:\n",
      "'Academy' started successfully!\n",
      "Unity Academy name: Academy\n",
      "        Number of Brains: 1\n",
      "        Number of External Brains : 1\n",
      "        Lesson number : 0\n",
      "        Reset Parameters :\n",
      "\t\t\n",
      "Unity brain name: TennisBrain\n",
      "        Number of Visual Observations (per agent): 0\n",
      "        Vector Observation space type: continuous\n",
      "        Vector Observation space size (per agent): 8\n",
      "        Number of stacked Vector Observation: 3\n",
      "        Vector Action space type: continuous\n",
      "        Vector Action space size (per agent): 2\n",
      "        Vector Action descriptions: , \n"
     ]
    }
   ],
   "source": [
    "from unityagents import UnityEnvironment\n",
    "import numpy as np\n",
    "\n",
    "env = UnityEnvironment(file_name=\"/data/Tennis_Linux_NoVis/Tennis\")"
   ]
  },
  {
   "cell_type": "markdown",
   "metadata": {},
   "source": [
    "Environments contain **_brains_** which are responsible for deciding the actions of their associated agents. Here we check for the first brain available, and set it as the default brain we will be controlling from Python."
   ]
  },
  {
   "cell_type": "code",
   "execution_count": 11,
   "metadata": {},
   "outputs": [],
   "source": [
    "# get the default brain\n",
    "brain_name = env.brain_names[0]\n",
    "brain = env.brains[brain_name]"
   ]
  },
  {
   "cell_type": "markdown",
   "metadata": {},
   "source": [
    "### 2. Examine the State and Action Spaces\n",
    "\n",
    "Run the code cell below to print some information about the environment."
   ]
  },
  {
   "cell_type": "code",
   "execution_count": 12,
   "metadata": {},
   "outputs": [
    {
     "name": "stdout",
     "output_type": "stream",
     "text": [
      "Number of agents: 2\n",
      "Size of each action: 2\n",
      "There are 2 agents. Each observes a state with length: 24\n",
      "The state for the first agent looks like: [ 0.          0.          0.          0.          0.          0.          0.\n",
      "  0.          0.          0.          0.          0.          0.          0.\n",
      "  0.          0.         -6.65278625 -1.5        -0.          0.\n",
      "  6.83172083  6.         -0.          0.        ]\n"
     ]
    }
   ],
   "source": [
    "# reset the environment\n",
    "env_info = env.reset(train_mode=True)[brain_name]\n",
    "\n",
    "# number of agents \n",
    "num_agents = len(env_info.agents)\n",
    "print('Number of agents:', num_agents)\n",
    "\n",
    "# size of each action\n",
    "action_size = brain.vector_action_space_size\n",
    "print('Size of each action:', action_size)\n",
    "\n",
    "# examine the state space \n",
    "states = env_info.vector_observations\n",
    "state_size = states.shape[1]\n",
    "print('There are {} agents. Each observes a state with length: {}'.format(states.shape[0], state_size))\n",
    "print('The state for the first agent looks like:', states[0])"
   ]
  },
  {
   "cell_type": "markdown",
   "metadata": {},
   "source": [
    "### 3. Take Random Actions in the Environment\n",
    "\n",
    "In the next code cell, you will learn how to use the Python API to control the agent and receive feedback from the environment.\n",
    "\n",
    "Note that **in this coding environment, you will not be able to watch the agents while they are training**, and you should set `train_mode=True` to restart the environment."
   ]
  },
  {
   "cell_type": "code",
   "execution_count": 8,
   "metadata": {},
   "outputs": [
    {
     "name": "stdout",
     "output_type": "stream",
     "text": [
      "Total score (averaged over agents) this episode: 0.09500000160187483\n",
      "Total score (averaged over agents) this episode: 0.04500000085681677\n",
      "Total score (averaged over agents) this episode: -0.004999999888241291\n",
      "Total score (averaged over agents) this episode: 0.04500000085681677\n",
      "Total score (averaged over agents) this episode: -0.004999999888241291\n"
     ]
    }
   ],
   "source": [
    "for i in range(5):                                         # play game for 5 episodes\n",
    "    env_info = env.reset(train_mode=False)[brain_name]     # reset the environment    \n",
    "    states = env_info.vector_observations                  # get the current state (for each agent)\n",
    "    scores = np.zeros(num_agents)                          # initialize the score (for each agent)\n",
    "    while True:\n",
    "        actions = np.random.randn(num_agents, action_size) # select an action (for each agent)\n",
    "        actions = np.clip(actions, -1, 1)                  # all actions between -1 and 1\n",
    "        env_info = env.step(actions)[brain_name]           # send all actions to tne environment\n",
    "        next_states = env_info.vector_observations         # get next state (for each agent)\n",
    "        rewards = env_info.rewards                         # get reward (for each agent)\n",
    "        dones = env_info.local_done                        # see if episode finished\n",
    "        scores += env_info.rewards                         # update the score (for each agent)\n",
    "        states = next_states                               # roll over states to next time step\n",
    "        if np.any(dones):                                  # exit loop if episode finished\n",
    "            break\n",
    "    print('Total score (averaged over agents) this episode: {}'.format(np.mean(scores)))"
   ]
  },
  {
   "cell_type": "markdown",
   "metadata": {},
   "source": [
    "When finished, you can close the environment."
   ]
  },
  {
   "cell_type": "code",
   "execution_count": 8,
   "metadata": {},
   "outputs": [],
   "source": [
    "#env.close()"
   ]
  },
  {
   "cell_type": "markdown",
   "metadata": {},
   "source": [
    "### 4. It's Your Turn!\n",
    "\n",
    "Now it's your turn to train your own agent to solve the environment!  A few **important notes**:\n",
    "- When training the environment, set `train_mode=True`, so that the line for resetting the environment looks like the following:\n",
    "```python\n",
    "env_info = env.reset(train_mode=True)[brain_name]\n",
    "```\n",
    "- To structure your work, you're welcome to work directly in this Jupyter notebook, or you might like to start over with a new file!  You can see the list of files in the workspace by clicking on **_Jupyter_** in the top left corner of the notebook.\n",
    "- In this coding environment, you will not be able to watch the agents while they are training.  However, **_after training the agents_**, you can download the saved model weights to watch the agents on your own machine! "
   ]
  },
  {
   "cell_type": "code",
   "execution_count": 4,
   "metadata": {},
   "outputs": [],
   "source": [
    "import numpy as np\n",
    "from maddpg_agent import Agent\n",
    "from collections import deque\n",
    "import random\n",
    "import time\n",
    "import torch\n",
    "import matplotlib.pyplot as plt"
   ]
  },
  {
   "cell_type": "code",
   "execution_count": 10,
   "metadata": {},
   "outputs": [],
   "source": [
    "GOAL_AVG_SCORE = 0.5\n",
    "CONSEC_EPISODES = 100\n",
    "PRINT_EVERY = 100\n",
    "ADD_NOISE = True\n",
    "STOP_FLAG = 300\n",
    "EPISODES = 2000\n",
    "MAX_T = 2000\n",
    "TRAIN_MODE = True"
   ]
  },
  {
   "cell_type": "code",
   "execution_count": 11,
   "metadata": {},
   "outputs": [],
   "source": [
    "def maddpg(episodes= EPISODES, max_timesteps= MAX_T, train_mode= TRAIN_MODE):\n",
    "    \"\"\"Multi-Agent Deep Deterministic Policy Gradient (MADDPG)\n",
    "    \n",
    "    Params\n",
    "    ======\n",
    "        episodes (int)      : maximum number of training episodes\n",
    "        max_timesteps (int)           : maximum number of timesteps per episode\n",
    "        train_mode (bool)     : if 'True' set environment to training mode\n",
    "\n",
    "    \"\"\"\n",
    "    scores_window = deque(maxlen=CONSEC_EPISODES)\n",
    "    scores_all = []\n",
    "    moving_average = []\n",
    "    best_score = -np.inf\n",
    "    best_episode = 0\n",
    "    already_solved = False    \n",
    "\n",
    "    for i_episode in range(1, episodes+1):\n",
    "        env_info = env.reset(train_mode=train_mode)[brain_name]         # reset the environment\n",
    "        states = np.reshape(env_info.vector_observations, (1,48)) # get states and combine them\n",
    "        agent_0.reset()\n",
    "        agent_1.reset()\n",
    "        scores = np.zeros(num_agents)\n",
    "        while True:\n",
    "            actions = get_actions(states, ADD_NOISE)           # choose agent actions and combine them\n",
    "            env_info = env.step(actions)[brain_name]           # send both agents' actions together to the environment\n",
    "            next_states = np.reshape(env_info.vector_observations, (1, 48)) # combine the agent next states\n",
    "            rewards = env_info.rewards                         # get reward\n",
    "            done = env_info.local_done                         # see if episode finished\n",
    "            agent_0.step(states, actions, rewards[0], next_states, done, 0) # agent 1 learns\n",
    "            agent_1.step(states, actions, rewards[1], next_states, done, 1) # agent 2 learns\n",
    "            scores += np.max(rewards)                          # update the score for each agent\n",
    "            states = next_states                               # roll over states to next time step\n",
    "            if np.any(done):                                   # exit loop if episode finished\n",
    "                break\n",
    "\n",
    "        ep_best_score = np.max(scores)\n",
    "        scores_window.append(ep_best_score)\n",
    "        scores_all.append(ep_best_score)\n",
    "        moving_average.append(np.mean(scores_window))\n",
    "\n",
    "        # save best score                        \n",
    "        if ep_best_score > best_score:\n",
    "            best_score = ep_best_score\n",
    "            best_episode = i_episode\n",
    "        \n",
    "        # print the results\n",
    "        if i_episode % PRINT_EVERY == 0:\n",
    "            print('Episodes {:0>4d}-{:0>4d}\\tMax Reward: {:.3f}\\tAverage: {:.3f}'.format(\n",
    "                i_episode-PRINT_EVERY, i_episode, np.max(scores_all[-PRINT_EVERY:]), moving_average[-1]))\n",
    "\n",
    "        # determine if the env meets the avg score goal\n",
    "        if moving_average[-1] >= GOAL_AVG_SCORE:\n",
    "                print('Environment solved in number {:d} episodes \\\n",
    "                \\n Average: {:.3f} over past {:d} episodes'.format(\n",
    "                    i_episode-CONSEC_EPISODES, moving_average[-1], CONSEC_EPISODES))\n",
    "                # save the weights model\n",
    "                torch.save(agent_0.actor_local.state_dict(), 'cp_actor_0.pth')\n",
    "                torch.save(agent_0.critic_local.state_dict(), 'cp_critic_0.pth')\n",
    "                torch.save(agent_1.actor_local.state_dict(), 'cp_actor_1.pth')\n",
    "                torch.save(agent_1.critic_local.state_dict(), 'cp_critic_1.pth')\n",
    "                break\n",
    "        else:\n",
    "                continue\n",
    "            \n",
    "    return scores_all, moving_average"
   ]
  },
  {
   "cell_type": "code",
   "execution_count": 23,
   "metadata": {},
   "outputs": [],
   "source": [
    "def get_actions(states, add_noise):\n",
    "    action_0 = agent_0.act(states, add_noise)    # agent 0 chooses an action\n",
    "    action_1 = agent_1.act(states, add_noise)    # agent 1 chooses an action\n",
    "    return np.concatenate((action_0, action_1), axis=0).flatten()"
   ]
  },
  {
   "cell_type": "markdown",
   "metadata": {},
   "source": [
    "**Init agents**"
   ]
  },
  {
   "cell_type": "code",
   "execution_count": 13,
   "metadata": {},
   "outputs": [],
   "source": [
    "agent_0 = Agent(state_size, action_size, num_agents=1, random_seed=0)\n",
    "agent_1 = Agent(state_size, action_size, num_agents=1, random_seed=0)"
   ]
  },
  {
   "cell_type": "code",
   "execution_count": 14,
   "metadata": {},
   "outputs": [
    {
     "name": "stdout",
     "output_type": "stream",
     "text": [
      "Episodes 0000-0100\tMax Reward: 0.200\tAverage: 0.018\n",
      "Episodes 0100-0200\tMax Reward: 0.300\tAverage: 0.052\n",
      "Episodes 0200-0300\tMax Reward: 0.500\tAverage: 0.062\n",
      "Episodes 0300-0400\tMax Reward: 1.200\tAverage: 0.087\n",
      "Episodes 0400-0500\tMax Reward: 0.400\tAverage: 0.092\n",
      "Episodes 0500-0600\tMax Reward: 0.600\tAverage: 0.105\n",
      "Episodes 0600-0700\tMax Reward: 0.600\tAverage: 0.091\n",
      "Episodes 0700-0800\tMax Reward: 0.700\tAverage: 0.097\n",
      "Episodes 0800-0900\tMax Reward: 0.600\tAverage: 0.109\n",
      "Episodes 0900-1000\tMax Reward: 0.800\tAverage: 0.172\n",
      "Episodes 1000-1100\tMax Reward: 1.000\tAverage: 0.201\n",
      "Episodes 1100-1200\tMax Reward: 3.300\tAverage: 0.335\n",
      "Episodes 1200-1300\tMax Reward: 1.600\tAverage: 0.228\n",
      "Episodes 1300-1400\tMax Reward: 1.300\tAverage: 0.254\n",
      "Environment solved in number 1399 episodes                 \n",
      " Average: 0.521 over past 100 episodes\n"
     ]
    }
   ],
   "source": [
    "from workspace_utils import active_session\n",
    " \n",
    "with active_session():\n",
    "    scores, moving_averages = maddpg()"
   ]
  },
  {
   "cell_type": "markdown",
   "metadata": {},
   "source": [
    "### Data Visualization"
   ]
  },
  {
   "cell_type": "code",
   "execution_count": 18,
   "metadata": {},
   "outputs": [
    {
     "data": {
      "image/png": "[encoded data removed]",
      "text/plain": [
       "<matplotlib.figure.Figure at 0x7fb30c63db38>"
      ]
     },
     "metadata": {
      "needs_background": "light"
     },
     "output_type": "display_data"
    }
   ],
   "source": [
    "fig = plt.figure()\n",
    "ax = fig.add_subplot(111)\n",
    "plt.title(\"Scores vs Episodes\")\n",
    "plt.plot(np.arange(len(scores)), scores, label='MADDPG')\n",
    "plt.plot(np.arange(len(scores)), moving_averages, c='r', label='moving averages')\n",
    "plt.ylabel('Score points')\n",
    "plt.xlabel('Episode number')\n",
    "plt.legend(loc='upper center');\n",
    "plt.show()"
   ]
  },
  {
   "cell_type": "markdown",
   "metadata": {},
   "source": [
    "## Testing agent"
   ]
  },
  {
   "cell_type": "markdown",
   "metadata": {},
   "source": [
    "**Constants**"
   ]
  },
  {
   "cell_type": "code",
   "execution_count": 18,
   "metadata": {},
   "outputs": [],
   "source": [
    "N_EPISODES = 100\n",
    "MAX_T = 2000\n",
    "PRINT_EVERY = 10\n",
    "ADD_NOISE = False\n",
    "TRAIN_MODE = False"
   ]
  },
  {
   "cell_type": "markdown",
   "metadata": {},
   "source": [
    "**Init agents**"
   ]
  },
  {
   "cell_type": "code",
   "execution_count": 19,
   "metadata": {},
   "outputs": [],
   "source": [
    "agent_0 = Agent(state_size, action_size, num_agents=1, random_seed=0)\n",
    "agent_1 = Agent(state_size, action_size, num_agents=1, random_seed=0)"
   ]
  },
  {
   "cell_type": "code",
   "execution_count": 20,
   "metadata": {},
   "outputs": [],
   "source": [
    "agent_0_weights = 'cp_actor_0.pth'\n",
    "agent_1_weights = 'cp_actor_1.pth'\n",
    "agent_0.actor_local.load_state_dict(torch.load(agent_0_weights))\n",
    "agent_1.actor_local.load_state_dict(torch.load(agent_1_weights))"
   ]
  },
  {
   "cell_type": "code",
   "execution_count": 21,
   "metadata": {},
   "outputs": [],
   "source": [
    "def test_agent(n_episodes= N_EPISODES , max_t= MAX_T, train_mode= TRAIN_MODE):\n",
    "\n",
    "    scores_window = deque(maxlen=N_EPISODES)\n",
    "    scores_all = []\n",
    "    moving_average = []  \n",
    "\n",
    "    for i_episode in range(1, n_episodes+1):\n",
    "        env_info = env.reset(train_mode=train_mode)[brain_name]         # reset the environment\n",
    "        states = np.reshape(env_info.vector_observations, (1,48)) # get states and combine them\n",
    "        scores = np.zeros(num_agents)\n",
    "        while True:\n",
    "            actions = get_actions(states, ADD_NOISE)           # choose agent actions and combine them\n",
    "            env_info = env.step(actions)[brain_name]           # send both agents' actions together to the environment\n",
    "            next_states = np.reshape(env_info.vector_observations, (1, 48)) # combine the agent next states\n",
    "            rewards = env_info.rewards                         # get reward\n",
    "            done = env_info.local_done                         # see if episode finished\n",
    "            scores += np.max(rewards)                          # update the score for each agent\n",
    "            states = next_states                               # roll over states to next time step\n",
    "            if np.any(done):                                   # exit loop if episode finished\n",
    "                break\n",
    "\n",
    "        ep_best_score = np.max(scores)\n",
    "        scores_window.append(ep_best_score)\n",
    "        scores_all.append(ep_best_score)\n",
    "        moving_average.append(np.mean(scores_window))\n",
    "\n",
    "        # print results\n",
    "        if i_episode % PRINT_EVERY == 0:\n",
    "            print('Episodes {:0>3d}-{:0>3d}\\tMax Reward: {:.3f}\\tAverage: {:.3f}'.format(\n",
    "                i_episode-PRINT_EVERY, i_episode, np.max(scores_all[-PRINT_EVERY:]), moving_average[-1]))\n",
    "            \n",
    "    return scores_all, moving_average"
   ]
  },
  {
   "cell_type": "code",
   "execution_count": 24,
   "metadata": {},
   "outputs": [
    {
     "name": "stdout",
     "output_type": "stream",
     "text": [
      "Episodes 000-010\tMax Reward: 2.800\tAverage: 0.890\n",
      "Episodes 010-020\tMax Reward: 4.900\tAverage: 1.480\n",
      "Episodes 020-030\tMax Reward: 4.700\tAverage: 1.487\n",
      "Episodes 030-040\tMax Reward: 5.100\tAverage: 1.475\n",
      "Episodes 040-050\tMax Reward: 5.100\tAverage: 1.368\n",
      "Episodes 050-060\tMax Reward: 5.000\tAverage: 1.375\n",
      "Episodes 060-070\tMax Reward: 5.200\tAverage: 1.360\n",
      "Episodes 070-080\tMax Reward: 3.400\tAverage: 1.356\n",
      "Episodes 080-090\tMax Reward: 3.590\tAverage: 1.393\n",
      "Episodes 090-100\tMax Reward: 3.000\tAverage: 1.372\n"
     ]
    }
   ],
   "source": [
    "from workspace_utils import active_session\n",
    " \n",
    "with active_session():\n",
    "    scores, avgs = test_agent()"
   ]
  },
  {
   "cell_type": "code",
   "execution_count": 25,
   "metadata": {},
   "outputs": [
    {
     "data": {
      "image/png": "[encoded data removed]",
      "text/plain": [
       "<matplotlib.figure.Figure at 0x7f115b45fef0>"
      ]
     },
     "metadata": {
      "needs_background": "light"
     },
     "output_type": "display_data"
    }
   ],
   "source": [
    "fig = plt.figure()\n",
    "ax = fig.add_subplot(111)\n",
    "plt.plot(np.arange(len(scores)), scores, label='MADDPG')\n",
    "plt.plot(np.arange(len(scores)), avgs, c='r', label='moving avg')\n",
    "plt.ylabel('Score')\n",
    "plt.xlabel('Episode #')\n",
    "plt.legend(loc='upper left');\n",
    "plt.show()"
   ]
  },
  {
   "cell_type": "code",
   "execution_count": 1,
   "metadata": {},
   "outputs": [],
   "source": [
    "#env.close()"
   ]
  },
  {
   "cell_type": "code",
   "execution_count": null,
   "metadata": {},
   "outputs": [],
   "source": []
  }
 ],
 "metadata": {
  "kernelspec": {
   "display_name": "Python 3",
   "language": "python",
   "name": "python3"
  },
  "language_info": {
   "codemirror_mode": {
    "name": "ipython",
    "version": 3
   },
   "file_extension": ".py",
   "mimetype": "text/x-python",
   "name": "python",
   "nbconvert_exporter": "python",
   "pygments_lexer": "ipython3",
   "version": "3.6.3"
  }
 },
 "nbformat": 4,
 "nbformat_minor": 2
}
